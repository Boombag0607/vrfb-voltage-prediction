{
 "cells": [
  {
   "cell_type": "code",
   "execution_count": 1,
   "metadata": {},
   "outputs": [],
   "source": [
    "import time\n",
    "import pandas as pd\n",
    "import numpy as np\n",
    "from scipy.interpolate import CubicSpline\n",
    "from sklearn.model_selection import train_test_split\n",
    "from sklearn.linear_model import LinearRegression\n",
    "from sklearn.svm import SVR\n",
    "from sklearn.tree import DecisionTreeRegressor\n",
    "from sklearn.ensemble import RandomForestRegressor\n",
    "from sklearn.ensemble import GradientBoostingRegressor\n",
    "from sklearn.metrics import mean_squared_error, mean_absolute_error, r2_score\n",
    "import matplotlib.pyplot as plt"
   ]
  },
  {
   "cell_type": "code",
   "execution_count": 2,
   "metadata": {},
   "outputs": [],
   "source": [
    "data = pd.read_csv('data.csv')\n",
    "\n",
    "X = {}\n",
    "y = {}\n",
    "\n",
    "unique_temperatures = np.unique(data['Temp'])\n",
    "\n",
    "voltage_dict = {}\n",
    "time_dict = {}\n",
    "socmin_dict = {}\n",
    "socmax_dict = {}\n",
    "\n",
    "for temp in unique_temperatures:\n",
    "    temp_data = data[data['Temp'] == temp]\n",
    "    voltage_dict[temp] = temp_data['Voltage'].values\n",
    "    time_dict[temp] = temp_data['Time'].values\n",
    "    socmin_dict[temp] = temp_data['SOCmin'].values\n",
    "    socmax_dict[temp] = temp_data['SOCmax'].values\n",
    "\n",
    "# print(X)"
   ]
  },
  {
   "cell_type": "code",
   "execution_count": 3,
   "metadata": {},
   "outputs": [
    {
     "name": "stdout",
     "output_type": "stream",
     "text": [
      "Total number of data points: 5992\n"
     ]
    }
   ],
   "source": [
    "for temp in unique_temperatures:\n",
    "    times = time_dict[temp]\n",
    "    voltages = voltage_dict[temp]\n",
    "    \n",
    "    sorted_indices = np.argsort(times)\n",
    "    times = np.array(times)[sorted_indices]\n",
    "    voltages = np.array(voltages)[sorted_indices]\n",
    "    \n",
    "    unique_times, unique_indices = np.unique(times, return_index=True)\n",
    "    times = unique_times\n",
    "    voltages = voltages[unique_indices]\n",
    "\n",
    "    new_times = []\n",
    "    for i in range(len(times) - 1):\n",
    "        new_times.extend(np.linspace(times[i], times[i + 1], 10)[:-1])\n",
    "\n",
    "    new_times.append(times[-1])  \n",
    "\n",
    "    cs = CubicSpline(times, voltages)\n",
    "    interpolated_voltages = cs(new_times)\n",
    "\n",
    "    time_dict[temp] = new_times\n",
    "    voltage_dict[temp] = interpolated_voltages\n",
    "         \n",
    "total_data_points = sum(len(v) for v in voltage_dict.values())\n",
    "print(f\"Total number of data points: {total_data_points}\")"
   ]
  },
  {
   "cell_type": "code",
   "execution_count": 4,
   "metadata": {},
   "outputs": [
    {
     "name": "stdout",
     "output_type": "stream",
     "text": [
      "       Time     SOCmin     SOCmax\n",
      "0  0.167616  11.157025  92.355372\n",
      "1  0.489420  11.157025  92.355372\n",
      "2  0.811224  11.157025  92.355372\n",
      "3  1.133028  11.157025  92.355372\n",
      "4  1.454832  11.157025  92.355372\n",
      "    Voltage\n",
      "0  1.656944\n",
      "1  1.657235\n",
      "2  1.657532\n",
      "3  1.657835\n",
      "4  1.658142\n"
     ]
    }
   ],
   "source": [
    "temps = []\n",
    "times = []\n",
    "socmins = []\n",
    "socmaxs = []\n",
    "voltages = []\n",
    "\n",
    "for temp in sorted(voltage_dict.keys()):\n",
    "    temps.extend([temp] * len(voltage_dict[temp]))\n",
    "    times.extend(time_dict[temp])\n",
    "    socmins.extend([socmin_dict[temp][0]]*len(voltage_dict[temp]))\n",
    "    socmaxs.extend([socmax_dict[temp][0]]*len(voltage_dict[temp]))\n",
    "    voltages.extend(voltage_dict[temp])\n",
    "    \n",
    "interpolated_data = pd.DataFrame({\n",
    "    'Temp': temps,\n",
    "    'Time': times,\n",
    "    'SOCmin': socmins,\n",
    "    'SOCmax': socmaxs,\n",
    "    'Voltage': voltages\n",
    "})\n",
    "\n",
    "interpolated_data.to_csv('output.csv', index=False)\n",
    "\n",
    "for temp in unique_temperatures:\n",
    "    temp_data = interpolated_data[interpolated_data['Temp'] == temp]\n",
    "    X[temp] = pd.DataFrame({\n",
    "        'Time': temp_data['Time'].tolist(),\n",
    "        'SOCmin': temp_data['SOCmin'].iloc[0],  \n",
    "        'SOCmax': temp_data['SOCmax'].iloc[0]\n",
    "    })\n",
    "    y[temp] = pd.DataFrame({'Voltage': temp_data['Voltage'].tolist()})\n",
    "\n",
    "print(X[30].head())\n",
    "print(y[0].head())"
   ]
  },
  {
   "cell_type": "code",
   "execution_count": 5,
   "metadata": {},
   "outputs": [
    {
     "name": "stdout",
     "output_type": "stream",
     "text": [
      "          Time     SOCmin     SOCmax\n",
      "344  75.120297  25.413223  86.570248\n",
      "439  75.195512  25.413223  86.570248\n",
      "234  75.045321  25.413223  86.570248\n",
      "338  75.116140  25.413223  86.570248\n",
      "311  75.097197  25.413223  86.570248\n",
      "      Voltage\n",
      "344  1.567747\n",
      "439  1.422531\n",
      "234  1.712500\n",
      "338  1.575772\n",
      "311  1.612346\n"
     ]
    }
   ],
   "source": [
    "X_train = {}\n",
    "y_train = {}\n",
    "X_test = {}\n",
    "y_test = {}\n",
    "\n",
    "for temp in unique_temperatures:\n",
    "    X_train[temp], X_test[temp], y_train[temp], y_test[temp] = train_test_split(X[temp], y[temp], test_size=0.2, random_state=42)\n",
    "    \n",
    "print(X_train[0].head())\n",
    "print(y_train[0].head())"
   ]
  },
  {
   "cell_type": "code",
   "execution_count": 6,
   "metadata": {},
   "outputs": [],
   "source": [
    "def_vol = 1.620898947\n",
    "def_time = 10.12196356\n",
    "def_socmin = 46.90082645\n",
    "def_socmax = 85.33057851\n",
    "def_temp = -10"
   ]
  },
  {
   "cell_type": "code",
   "execution_count": 7,
   "metadata": {},
   "outputs": [],
   "source": [
    "T0 = -10\n",
    "T1 = 50\n",
    "t0 = 10.12196356\n",
    "socmin = 46.90082645\n",
    "socmax = 85.33057851"
   ]
  },
  {
   "cell_type": "code",
   "execution_count": 8,
   "metadata": {},
   "outputs": [
    {
     "name": "stdout",
     "output_type": "stream",
     "text": [
      "-----------------------------------------------------------------------------------\n",
      "Performance Metrics for temperature -10:\n",
      "Mean Squared Error (MSE): 0.0295\n",
      "Mean Absolute Error (MAE): 0.1297\n",
      "R-squared (R²): 0.4356\n",
      "Root Mean Squared Error (RMSE): 0.1716\n",
      "Prediction Time: 0.0008 seconds\n",
      "Linear Regression Predicted voltage for temperature = -10 and time = 10.12196356 : 1.7665306115188297 V\n",
      "-----------------------------------------------------------------------------------\n",
      "Performance Metrics for temperature 0:\n",
      "Mean Squared Error (MSE): 0.0201\n",
      "Mean Absolute Error (MAE): 0.1168\n",
      "R-squared (R²): 0.6385\n",
      "Root Mean Squared Error (RMSE): 0.1418\n",
      "Prediction Time: 0.0005 seconds\n",
      "Linear Regression Predicted voltage for temperature = -10 and time = 10.12196356 : 1.8449978263882683 V\n",
      "-----------------------------------------------------------------------------------\n",
      "Performance Metrics for temperature 10:\n",
      "Mean Squared Error (MSE): 0.0409\n",
      "Mean Absolute Error (MAE): 0.1381\n",
      "R-squared (R²): 0.3885\n",
      "Root Mean Squared Error (RMSE): 0.2022\n",
      "Prediction Time: 0.0005 seconds\n",
      "Linear Regression Predicted voltage for temperature = -10 and time = 10.12196356 : 1.78968005151594 V\n",
      "-----------------------------------------------------------------------------------\n",
      "Performance Metrics for temperature 20:\n",
      "Mean Squared Error (MSE): 0.0594\n",
      "Mean Absolute Error (MAE): 0.1907\n",
      "R-squared (R²): 0.6537\n",
      "Root Mean Squared Error (RMSE): 0.2437\n",
      "Prediction Time: 0.0005 seconds\n",
      "Linear Regression Predicted voltage for temperature = -10 and time = 10.12196356 : 1.5154985501872353 V\n",
      "-----------------------------------------------------------------------------------\n",
      "Performance Metrics for temperature 30:\n",
      "Mean Squared Error (MSE): 0.0309\n",
      "Mean Absolute Error (MAE): 0.1439\n",
      "R-squared (R²): 0.3772\n",
      "Root Mean Squared Error (RMSE): 0.1758\n",
      "Prediction Time: 0.0005 seconds\n",
      "Linear Regression Predicted voltage for temperature = -10 and time = 10.12196356 : 1.8124465286974556 V\n",
      "-----------------------------------------------------------------------------------\n",
      "Performance Metrics for temperature 40:\n",
      "Mean Squared Error (MSE): 0.0512\n",
      "Mean Absolute Error (MAE): 0.1708\n",
      "R-squared (R²): 0.5296\n",
      "Root Mean Squared Error (RMSE): 0.2263\n",
      "Prediction Time: 0.0005 seconds\n",
      "Linear Regression Predicted voltage for temperature = -10 and time = 10.12196356 : 1.3655696487711761 V\n",
      "-----------------------------------------------------------------------------------\n",
      "Performance Metrics for temperature 50:\n",
      "Mean Squared Error (MSE): 0.0805\n",
      "Mean Absolute Error (MAE): 0.2361\n",
      "R-squared (R²): 0.2702\n",
      "Root Mean Squared Error (RMSE): 0.2837\n",
      "Prediction Time: 0.0005 seconds\n",
      "Linear Regression Predicted voltage for temperature = -10 and time = 10.12196356 : 1.3642217053999883 V\n",
      "-----------------------------------------------------------------------------------\n",
      "Temperature at max R2:  20\n"
     ]
    },
    {
     "data": {
      "text/plain": [
       "[<matplotlib.lines.Line2D at 0x7f9b716cea90>]"
      ]
     },
     "execution_count": 8,
     "metadata": {},
     "output_type": "execute_result"
    },
    {
     "data": {
      "image/png": "[encoded data removed]",
      "text/plain": [
       "<Figure size 432x288 with 1 Axes>"
      ]
     },
     "metadata": {
      "needs_background": "light"
     },
     "output_type": "display_data"
    },
    {
     "data": {
      "image/png": "[encoded data removed]",
      "text/plain": [
       "<Figure size 432x288 with 1 Axes>"
      ]
     },
     "metadata": {
      "needs_background": "light"
     },
     "output_type": "display_data"
    }
   ],
   "source": [
    "y_pred = {}\n",
    "lin_model = LinearRegression()\n",
    "maxr2 = 0\n",
    "maxr2temp = -100\n",
    "for temp in unique_temperatures:\n",
    "    lin_model.fit(X_train[temp], y_train[temp].values.ravel())\n",
    "    t1 = time.time()\n",
    "    y_pred[temp] = lin_model.predict(X_test[temp])\n",
    "    pred_time = time.time() - t1\n",
    "\n",
    "    mse = mean_squared_error(y_test[temp], y_pred[temp])\n",
    "    mae = mean_absolute_error(y_test[temp], y_pred[temp])\n",
    "    r2 = r2_score(y_test[temp], y_pred[temp])\n",
    "    rmse = np.sqrt(mse)\n",
    "    \n",
    "    if r2 > maxr2:\n",
    "        maxr2 = r2\n",
    "        maxr2temp = temp\n",
    "    \n",
    "    print(\"-----------------------------------------------------------------------------------\")\n",
    "    print(f\"Performance Metrics for temperature {temp}:\")\n",
    "    print(f\"Mean Squared Error (MSE): {mse:.4f}\")\n",
    "    print(f\"Mean Absolute Error (MAE): {mae:.4f}\")\n",
    "    print(f\"R-squared (R²): {r2:.4f}\")\n",
    "    print(f\"Root Mean Squared Error (RMSE): {rmse:.4f}\")\n",
    "    print(f\"Prediction Time: {pred_time:.4f} seconds\")\n",
    "\n",
    "    volt_pred = lin_model.predict([[t0, socmin, socmax]])[0]\n",
    "\n",
    "    print(\"Linear Regression Predicted voltage for temperature =\", T0, \"and time =\", t0, \":\", volt_pred, \"V\")    \n",
    "    \n",
    "\n",
    "print(\"-----------------------------------------------------------------------------------\")\n",
    "\n",
    "print(\"Temperature at max R2: \", maxr2temp)\n",
    "\n",
    "plt.figure()\n",
    "plt.scatter(X_test[maxr2temp]['Time'], y_pred[maxr2temp], label=f'Temperature: {maxr2temp}', alpha=0.6)\n",
    "\n",
    "plt.figure()\n",
    "plt.scatter(y_test[maxr2temp], y_pred[maxr2temp], alpha=0.6)\n",
    "min_val = min(y_test[maxr2temp].values.min(), y_pred[maxr2temp].min())\n",
    "max_val = max(y_test[maxr2temp].values.max(), y_pred[maxr2temp].max())\n",
    "plt.plot([min_val, max_val], [min_val, max_val], 'g-', linewidth=1, label='x = y')"
   ]
  },
  {
   "cell_type": "code",
   "execution_count": 9,
   "metadata": {},
   "outputs": [
    {
     "name": "stdout",
     "output_type": "stream",
     "text": [
      "-----------------------------------------------------------------------------------\n",
      "Performance metrics for temperature -10: \n",
      "Mean Squared Error (MSE): 0.0256\n",
      "Mean Absolute Error (MAE): 0.1367\n",
      "R-squared (R²): 0.5093\n",
      "Root Mean Squared Error (RMSE): 0.1600\n",
      "Prediction Time: 0.0032 seconds\n",
      "SVM Predicted voltage for temperature = -10 and time = 10.12196356 : 1.50220183524997 V\n",
      "-----------------------------------------------------------------------------------\n",
      "Performance metrics for temperature 0: \n",
      "Mean Squared Error (MSE): 0.0072\n",
      "Mean Absolute Error (MAE): 0.0784\n",
      "R-squared (R²): 0.8701\n",
      "Root Mean Squared Error (RMSE): 0.0850\n",
      "Prediction Time: 0.0034 seconds\n",
      "SVM Predicted voltage for temperature = 0 and time = 10.12196356 : 1.4489240095196767 V\n",
      "-----------------------------------------------------------------------------------\n",
      "Performance metrics for temperature 10: \n",
      "Mean Squared Error (MSE): 0.0087\n",
      "Mean Absolute Error (MAE): 0.0830\n",
      "R-squared (R²): 0.8694\n",
      "Root Mean Squared Error (RMSE): 0.0934\n",
      "Prediction Time: 0.0036 seconds\n",
      "SVM Predicted voltage for temperature = 10 and time = 10.12196356 : 1.4646658372221535 V\n",
      "-----------------------------------------------------------------------------------\n",
      "Performance metrics for temperature 20: \n",
      "Mean Squared Error (MSE): 0.0099\n",
      "Mean Absolute Error (MAE): 0.0976\n",
      "R-squared (R²): 0.9421\n",
      "Root Mean Squared Error (RMSE): 0.0997\n",
      "Prediction Time: 0.0060 seconds\n",
      "SVM Predicted voltage for temperature = 20 and time = 10.12196356 : 1.0354704151942766 V\n",
      "-----------------------------------------------------------------------------------\n",
      "Performance metrics for temperature 30: \n",
      "Mean Squared Error (MSE): 0.0137\n",
      "Mean Absolute Error (MAE): 0.0874\n",
      "R-squared (R²): 0.7237\n",
      "Root Mean Squared Error (RMSE): 0.1171\n",
      "Prediction Time: 0.0036 seconds\n",
      "SVM Predicted voltage for temperature = 30 and time = 10.12196356 : 1.4584162372706464 V\n",
      "-----------------------------------------------------------------------------------\n",
      "Performance metrics for temperature 40: \n",
      "Mean Squared Error (MSE): 0.0086\n",
      "Mean Absolute Error (MAE): 0.0894\n",
      "R-squared (R²): 0.9212\n",
      "Root Mean Squared Error (RMSE): 0.0926\n",
      "Prediction Time: 0.0065 seconds\n",
      "SVM Predicted voltage for temperature = 40 and time = 10.12196356 : 1.0138187273972417 V\n",
      "-----------------------------------------------------------------------------------\n",
      "Performance metrics for temperature 50: \n",
      "Mean Squared Error (MSE): 0.0083\n",
      "Mean Absolute Error (MAE): 0.0874\n",
      "R-squared (R²): 0.9248\n",
      "Root Mean Squared Error (RMSE): 0.0911\n",
      "Prediction Time: 0.0067 seconds\n",
      "SVM Predicted voltage for temperature = 50 and time = 10.12196356 : 1.0138982996526893 V\n",
      "-----------------------------------------------------------------------------------\n",
      "Temperature at max R2:  20\n"
     ]
    },
    {
     "data": {
      "text/plain": [
       "[<matplotlib.lines.Line2D at 0x7f9b71631be0>]"
      ]
     },
     "execution_count": 9,
     "metadata": {},
     "output_type": "execute_result"
    },
    {
     "data": {
      "image/png": "[encoded data removed]",
      "text/plain": [
       "<Figure size 432x288 with 1 Axes>"
      ]
     },
     "metadata": {
      "needs_background": "light"
     },
     "output_type": "display_data"
    },
    {
     "data": {
      "image/png": "[encoded data removed]",
      "text/plain": [
       "<Figure size 432x288 with 1 Axes>"
      ]
     },
     "metadata": {
      "needs_background": "light"
     },
     "output_type": "display_data"
    }
   ],
   "source": [
    "svr_y_pred = {}\n",
    "svr_model = SVR( kernel='rbf', C=1.0, gamma='auto' )\n",
    "maxr2 = 0\n",
    "maxr2temp = -100\n",
    "for temp in unique_temperatures:\n",
    "    svr_model.fit(X_train[temp], y_train[temp].values.ravel())\n",
    "\n",
    "    t1 = time.time()\n",
    "    svr_y_pred[temp] = svr_model.predict(X_test[temp])\n",
    "    pred_time = time.time() - t1\n",
    "\n",
    "    mse = mean_squared_error(y_test[temp], svr_y_pred[temp])\n",
    "    mae = mean_absolute_error(y_test[temp], svr_y_pred[temp])\n",
    "    r2 = r2_score(y_test[temp], svr_y_pred[temp])\n",
    "    rmse = np.sqrt(mse)\n",
    "    \n",
    "    if r2 > maxr2:\n",
    "        maxr2 = r2\n",
    "        maxr2temp = temp\n",
    "\n",
    "    print(\"-----------------------------------------------------------------------------------\")\n",
    "    print(f\"Performance metrics for temperature {temp}: \")\n",
    "    print(f\"Mean Squared Error (MSE): {mse:.4f}\")\n",
    "    print(f\"Mean Absolute Error (MAE): {mae:.4f}\")\n",
    "    print(f\"R-squared (R²): {r2:.4f}\")\n",
    "    print(f\"Root Mean Squared Error (RMSE): {rmse:.4f}\")\n",
    "    print(f\"Prediction Time: {pred_time:.4f} seconds\")\n",
    "\n",
    "    volt_pred = svr_model.predict([[t0, socmin, socmax]])[0]\n",
    "\n",
    "    print(\"SVM Predicted voltage for temperature =\", temp, \"and time =\", t0, \":\", volt_pred, \"V\")\n",
    "    \n",
    "print(\"-----------------------------------------------------------------------------------\")\n",
    "\n",
    "print(\"Temperature at max R2: \", maxr2temp)\n",
    "\n",
    "plt.figure()\n",
    "plt.scatter(X_test[maxr2temp]['Time'], svr_y_pred[maxr2temp], alpha=0.6)\n",
    "\n",
    "plt.figure()\n",
    "plt.scatter(y_test[maxr2temp], svr_y_pred[maxr2temp], alpha=0.6)\n",
    "min_val = min(y_test[maxr2temp].values.min(), svr_y_pred[maxr2temp].min())\n",
    "max_val = max(y_test[maxr2temp].values.max(), svr_y_pred[maxr2temp].max())\n",
    "plt.plot([min_val, max_val], [min_val, max_val], 'g-', linewidth=1, label='x = y')"
   ]
  },
  {
   "cell_type": "code",
   "execution_count": 10,
   "metadata": {},
   "outputs": [
    {
     "name": "stdout",
     "output_type": "stream",
     "text": [
      "-----------------------------------------------------------------------------------\n",
      "Performance Metrics for temperature -10:\n",
      "Mean Squared Error (MSE): 0.0012\n",
      "Mean Absolute Error (MAE): 0.0125\n",
      "R-squared (R²): 0.9775\n",
      "Root Mean Squared Error (RMSE): 0.0343\n",
      "Training Time: 0.0046 seconds\n",
      "Prediction Time: 0.0007 seconds\n",
      "Number of Nodes: 921\n",
      "Tree Depth: 16\n",
      "Decision Tree Predicted voltage for temperature = -10 and time = 10.12196356 : 1.6208194448222317 V\n",
      "-----------------------------------------------------------------------------------\n",
      "Performance Metrics for temperature 0:\n",
      "Mean Squared Error (MSE): 0.0004\n",
      "Mean Absolute Error (MAE): 0.0052\n",
      "R-squared (R²): 0.9920\n",
      "Root Mean Squared Error (RMSE): 0.0211\n",
      "Training Time: 0.0019 seconds\n",
      "Prediction Time: 0.0007 seconds\n",
      "Number of Nodes: 1223\n",
      "Tree Depth: 18\n",
      "Decision Tree Predicted voltage for temperature = 0 and time = 10.12196356 : 1.6682805775138387 V\n",
      "-----------------------------------------------------------------------------------\n",
      "Performance Metrics for temperature 10:\n",
      "Mean Squared Error (MSE): 0.0034\n",
      "Mean Absolute Error (MAE): 0.0132\n",
      "R-squared (R²): 0.9491\n",
      "Root Mean Squared Error (RMSE): 0.0583\n",
      "Training Time: 0.0018 seconds\n",
      "Prediction Time: 0.0006 seconds\n",
      "Number of Nodes: 1325\n",
      "Tree Depth: 19\n",
      "Decision Tree Predicted voltage for temperature = 10 and time = 10.12196356 : 1.5702280698377207 V\n",
      "-----------------------------------------------------------------------------------\n",
      "Performance Metrics for temperature 20:\n",
      "Mean Squared Error (MSE): 0.0003\n",
      "Mean Absolute Error (MAE): 0.0052\n",
      "R-squared (R²): 0.9985\n",
      "Root Mean Squared Error (RMSE): 0.0162\n",
      "Training Time: 0.0019 seconds\n",
      "Prediction Time: 0.0006 seconds\n",
      "Number of Nodes: 1439\n",
      "Tree Depth: 17\n",
      "Decision Tree Predicted voltage for temperature = 20 and time = 10.12196356 : 1.1950802696096336 V\n",
      "-----------------------------------------------------------------------------------\n",
      "Performance Metrics for temperature 30:\n",
      "Mean Squared Error (MSE): 0.0011\n",
      "Mean Absolute Error (MAE): 0.0087\n",
      "R-squared (R²): 0.9785\n",
      "Root Mean Squared Error (RMSE): 0.0327\n",
      "Training Time: 0.0018 seconds\n",
      "Prediction Time: 0.0006 seconds\n",
      "Number of Nodes: 1295\n",
      "Tree Depth: 17\n",
      "Decision Tree Predicted voltage for temperature = 30 and time = 10.12196356 : 1.5023991610907304 V\n",
      "-----------------------------------------------------------------------------------\n",
      "Performance Metrics for temperature 40:\n",
      "Mean Squared Error (MSE): 0.0000\n",
      "Mean Absolute Error (MAE): 0.0019\n",
      "R-squared (R²): 0.9998\n",
      "Root Mean Squared Error (RMSE): 0.0049\n",
      "Training Time: 0.0017 seconds\n",
      "Prediction Time: 0.0006 seconds\n",
      "Number of Nodes: 1699\n",
      "Tree Depth: 16\n",
      "Decision Tree Predicted voltage for temperature = 40 and time = 10.12196356 : 1.066775244 V\n",
      "-----------------------------------------------------------------------------------\n",
      "Performance Metrics for temperature 50:\n",
      "Mean Squared Error (MSE): 0.0000\n",
      "Mean Absolute Error (MAE): 0.0019\n",
      "R-squared (R²): 0.9998\n",
      "Root Mean Squared Error (RMSE): 0.0048\n",
      "Training Time: 0.0019 seconds\n",
      "Prediction Time: 0.0006 seconds\n",
      "Number of Nodes: 1671\n",
      "Tree Depth: 16\n",
      "Decision Tree Predicted voltage for temperature = 50 and time = 10.12196356 : 1.0040540073787392 V\n",
      "-----------------------------------------------------------------------------------\n",
      "Temperature at Max R2:  50\n"
     ]
    },
    {
     "data": {
      "text/plain": [
       "[<matplotlib.lines.Line2D at 0x7f9b711ff190>]"
      ]
     },
     "execution_count": 10,
     "metadata": {},
     "output_type": "execute_result"
    },
    {
     "data": {
      "image/png": "[encoded data removed]",
      "text/plain": [
       "<Figure size 432x288 with 1 Axes>"
      ]
     },
     "metadata": {
      "needs_background": "light"
     },
     "output_type": "display_data"
    },
    {
     "data": {
      "image/png": "[encoded data removed]",
      "text/plain": [
       "<Figure size 432x288 with 1 Axes>"
      ]
     },
     "metadata": {
      "needs_background": "light"
     },
     "output_type": "display_data"
    }
   ],
   "source": [
    "tree_y_pred = {}\n",
    "treemodel = DecisionTreeRegressor(random_state=0)\n",
    "maxr2 = 0\n",
    "maxr2temp = -100\n",
    "\n",
    "for temp in unique_temperatures:\n",
    "    t1 = time.time()\n",
    "    treemodel.fit(X_train[temp], y_train[temp].values.ravel())\n",
    "    train_time = time.time() - t1\n",
    "\n",
    "    t2 = time.time()\n",
    "    tree_y_pred[temp] = treemodel.predict(X_test[temp])\n",
    "    pred_time = time.time() - t2\n",
    "\n",
    "    mse = mean_squared_error(y_test[temp], tree_y_pred[temp])\n",
    "    mae = mean_absolute_error(y_test[temp], tree_y_pred[temp])\n",
    "    r2 = r2_score(y_test[temp], tree_y_pred[temp])\n",
    "    rmse = np.sqrt(mse)\n",
    "    \n",
    "    if (r2 > maxr2):\n",
    "        maxr2 = r2\n",
    "        maxr2temp = temp\n",
    "\n",
    "    num_nodes = treemodel.tree_.node_count\n",
    "    tree_depth = treemodel.tree_.max_depth\n",
    "\n",
    "    print(\"-----------------------------------------------------------------------------------\")\n",
    "    print(f\"Performance Metrics for temperature {temp}:\")\n",
    "    print(f\"Mean Squared Error (MSE): {mse:.4f}\")\n",
    "    print(f\"Mean Absolute Error (MAE): {mae:.4f}\")\n",
    "    print(f\"R-squared (R²): {r2:.4f}\")\n",
    "    print(f\"Root Mean Squared Error (RMSE): {rmse:.4f}\")\n",
    "    print(f\"Training Time: {train_time:.4f} seconds\")\n",
    "    print(f\"Prediction Time: {pred_time:.4f} seconds\")\n",
    "    print(f\"Number of Nodes: {num_nodes}\")\n",
    "    print(f\"Tree Depth: {tree_depth}\")\n",
    "\n",
    "    tree_volt_pred = treemodel.predict([[t0, socmin, socmax]])[0]\n",
    "\n",
    "    print(\"Decision Tree Predicted voltage for temperature =\", temp, \"and time =\", t0, \":\", tree_volt_pred, \"V\")\n",
    "\n",
    "print(\"-----------------------------------------------------------------------------------\")\n",
    "\n",
    "print(\"Temperature at Max R2: \", maxr2temp)\n",
    "\n",
    "plt.figure()\n",
    "plt.scatter(X_test[maxr2temp]['Time'], tree_y_pred[maxr2temp], alpha=0.6)\n",
    "\n",
    "plt.figure()\n",
    "plt.scatter(y_test[maxr2temp], svr_y_pred[maxr2temp], alpha=0.6)\n",
    "min_val = min(y_test[maxr2temp].values.min(), tree_y_pred[maxr2temp].min())\n",
    "max_val = max(y_test[maxr2temp].values.max(), tree_y_pred[maxr2temp].max())\n",
    "plt.plot([min_val, max_val], [min_val, max_val], 'g-', linewidth=1, label='x = y')"
   ]
  },
  {
   "cell_type": "code",
   "execution_count": 11,
   "metadata": {},
   "outputs": [
    {
     "name": "stdout",
     "output_type": "stream",
     "text": [
      "-----------------------------------------------------------------------------------\n",
      "Performance Metrics for temperature -10:\n",
      "Mean Squared Error (MSE): 0.0007\n",
      "Mean Absolute Error (MAE): 0.0095\n",
      "R-squared (R²): 0.9868\n",
      "Root Mean Squared Error (RMSE): 0.0262\n",
      "Training Time: 0.0887 seconds\n",
      "Prediction Time: 0.0061 seconds\n",
      "Number of Trees (Iterations): 100\n",
      "Random Forest Predicted voltage for temperature = -10 and time = 10.12196356 : 1.6208231951177314 V\n",
      "-----------------------------------------------------------------------------------\n",
      "Performance Metrics for temperature 0:\n",
      "Mean Squared Error (MSE): 0.0001\n",
      "Mean Absolute Error (MAE): 0.0031\n",
      "R-squared (R²): 0.9973\n",
      "Root Mean Squared Error (RMSE): 0.0122\n",
      "Training Time: 0.0955 seconds\n",
      "Prediction Time: 0.0065 seconds\n",
      "Number of Trees (Iterations): 100\n",
      "Random Forest Predicted voltage for temperature = 0 and time = 10.12196356 : 1.6688515510585267 V\n",
      "-----------------------------------------------------------------------------------\n",
      "Performance Metrics for temperature 10:\n",
      "Mean Squared Error (MSE): 0.0033\n",
      "Mean Absolute Error (MAE): 0.0111\n",
      "R-squared (R²): 0.9510\n",
      "Root Mean Squared Error (RMSE): 0.0572\n",
      "Training Time: 0.0965 seconds\n",
      "Prediction Time: 0.0065 seconds\n",
      "Number of Trees (Iterations): 100\n",
      "Random Forest Predicted voltage for temperature = 10 and time = 10.12196356 : 1.5699195850232472 V\n",
      "-----------------------------------------------------------------------------------\n",
      "Performance Metrics for temperature 20:\n",
      "Mean Squared Error (MSE): 0.0001\n",
      "Mean Absolute Error (MAE): 0.0031\n",
      "R-squared (R²): 0.9992\n",
      "Root Mean Squared Error (RMSE): 0.0119\n",
      "Training Time: 0.0986 seconds\n",
      "Prediction Time: 0.0064 seconds\n",
      "Number of Trees (Iterations): 100\n",
      "Random Forest Predicted voltage for temperature = 20 and time = 10.12196356 : 1.1948559570742994 V\n",
      "-----------------------------------------------------------------------------------\n",
      "Performance Metrics for temperature 30:\n",
      "Mean Squared Error (MSE): 0.0003\n",
      "Mean Absolute Error (MAE): 0.0047\n",
      "R-squared (R²): 0.9932\n",
      "Root Mean Squared Error (RMSE): 0.0183\n",
      "Training Time: 0.0942 seconds\n",
      "Prediction Time: 0.0064 seconds\n",
      "Number of Trees (Iterations): 100\n",
      "Random Forest Predicted voltage for temperature = 30 and time = 10.12196356 : 1.5019372084016143 V\n",
      "-----------------------------------------------------------------------------------\n",
      "Performance Metrics for temperature 40:\n",
      "Mean Squared Error (MSE): 0.0000\n",
      "Mean Absolute Error (MAE): 0.0010\n",
      "R-squared (R²): 0.9999\n",
      "Root Mean Squared Error (RMSE): 0.0024\n",
      "Training Time: 0.1045 seconds\n",
      "Prediction Time: 0.0070 seconds\n",
      "Number of Trees (Iterations): 100\n",
      "Random Forest Predicted voltage for temperature = 40 and time = 10.12196356 : 1.0665906944180528 V\n",
      "-----------------------------------------------------------------------------------\n",
      "Performance Metrics for temperature 50:\n",
      "Mean Squared Error (MSE): 0.0000\n",
      "Mean Absolute Error (MAE): 0.0010\n",
      "R-squared (R²): 0.9999\n",
      "Root Mean Squared Error (RMSE): 0.0024\n",
      "Training Time: 0.1022 seconds\n",
      "Prediction Time: 0.0067 seconds\n",
      "Number of Trees (Iterations): 100\n",
      "Random Forest Predicted voltage for temperature = 50 and time = 10.12196356 : 1.0038325500476017 V\n",
      "-----------------------------------------------------------------------------------\n",
      "Temperature at Max R2:  50\n"
     ]
    },
    {
     "data": {
      "text/plain": [
       "[<matplotlib.lines.Line2D at 0x7f9b71444700>]"
      ]
     },
     "execution_count": 11,
     "metadata": {},
     "output_type": "execute_result"
    },
    {
     "data": {
      "image/png": "[encoded data removed]",
      "text/plain": [
       "<Figure size 432x288 with 1 Axes>"
      ]
     },
     "metadata": {
      "needs_background": "light"
     },
     "output_type": "display_data"
    },
    {
     "data": {
      "image/png": "[encoded data removed]",
      "text/plain": [
       "<Figure size 432x288 with 1 Axes>"
      ]
     },
     "metadata": {
      "needs_background": "light"
     },
     "output_type": "display_data"
    }
   ],
   "source": [
    "random_y_pred = {}\n",
    "randommodel = RandomForestRegressor( n_estimators=100, random_state=0 )\n",
    "maxr2 = 0\n",
    "maxr2temp = -100\n",
    "\n",
    "for temp in unique_temperatures:\n",
    "    t1 = time.time()\n",
    "    randommodel.fit(X_train[temp], y_train[temp].values.ravel())\n",
    "    train_time = time.time() - t1\n",
    "\n",
    "    t2 = time.time()\n",
    "    random_y_pred[temp] = randommodel.predict(X_test[temp])\n",
    "    pred_time = time.time() - t2\n",
    "\n",
    "    mse = mean_squared_error(y_test[temp], random_y_pred[temp])\n",
    "    mae = mean_absolute_error(y_test[temp], random_y_pred[temp])\n",
    "    r2 = r2_score(y_test[temp], random_y_pred[temp])\n",
    "    rmse = np.sqrt(mse)\n",
    "    \n",
    "    if (r2 > maxr2):\n",
    "        maxr2 = r2\n",
    "        maxr2temp = temp\n",
    "        \n",
    "    \n",
    "    print(\"-----------------------------------------------------------------------------------\")\n",
    "\n",
    "    print(f\"Performance Metrics for temperature {temp}:\")\n",
    "    print(f\"Mean Squared Error (MSE): {mse:.4f}\")\n",
    "    print(f\"Mean Absolute Error (MAE): {mae:.4f}\")\n",
    "    print(f\"R-squared (R²): {r2:.4f}\")\n",
    "    print(f\"Root Mean Squared Error (RMSE): {rmse:.4f}\")\n",
    "    print(f\"Training Time: {train_time:.4f} seconds\")\n",
    "    print(f\"Prediction Time: {pred_time:.4f} seconds\")\n",
    "    print(f\"Number of Trees (Iterations): {randommodel.n_estimators}\")\n",
    "\n",
    "    random_volt_pred = randommodel.predict([[t0, socmin, socmax]])[0]\n",
    "\n",
    "    print(\"Random Forest Predicted voltage for temperature =\", temp, \"and time =\", t0, \":\", random_volt_pred, \"V\")\n",
    "    \n",
    "print(\"-----------------------------------------------------------------------------------\")\n",
    "\n",
    "print(\"Temperature at Max R2: \", maxr2temp)\n",
    "\n",
    "plt.figure()\n",
    "plt.scatter(X_test[maxr2temp]['Time'], tree_y_pred[maxr2temp], alpha=0.6)\n",
    "\n",
    "plt.figure()\n",
    "plt.scatter(y_test[maxr2temp], random_y_pred[maxr2temp], alpha=0.6)\n",
    "min_val = min(y_test[maxr2temp].values.min(), random_y_pred[maxr2temp].min())\n",
    "max_val = max(y_test[maxr2temp].values.max(), random_y_pred[maxr2temp].max())\n",
    "plt.plot([min_val, max_val], [min_val, max_val], 'g-', linewidth=1, label='x = y')"
   ]
  },
  {
   "cell_type": "code",
   "execution_count": 12,
   "metadata": {},
   "outputs": [
    {
     "name": "stdout",
     "output_type": "stream",
     "text": [
      "-----------------------------------------------------------------------------------\n",
      "Performance Metrics for temperature -10:\n",
      "Mean Squared Error (MSE): 0.0194\n",
      "Mean Absolute Error (MAE): 0.0885\n",
      "R-squared (R²): 0.6277\n",
      "Root Mean Squared Error (RMSE): 0.1394\n",
      "Prediction Time: 0.0012 seconds\n",
      "Gradient Boosting Predicted voltage for temperature = -10 and time = 10.12196356 : 1.6342282635024574 V\n",
      "-----------------------------------------------------------------------------------\n",
      "Performance Metrics for temperature 0:\n",
      "Mean Squared Error (MSE): 0.0020\n",
      "Mean Absolute Error (MAE): 0.0194\n",
      "R-squared (R²): 0.9647\n",
      "Root Mean Squared Error (RMSE): 0.0443\n",
      "Prediction Time: 0.0006 seconds\n",
      "Gradient Boosting Predicted voltage for temperature = 0 and time = 10.12196356 : 1.6949420512039435 V\n",
      "-----------------------------------------------------------------------------------\n",
      "Performance Metrics for temperature 10:\n",
      "Mean Squared Error (MSE): 0.0164\n",
      "Mean Absolute Error (MAE): 0.0417\n",
      "R-squared (R²): 0.7540\n",
      "Root Mean Squared Error (RMSE): 0.1282\n",
      "Prediction Time: 0.0008 seconds\n",
      "Gradient Boosting Predicted voltage for temperature = 10 and time = 10.12196356 : 1.5970680421717522 V\n",
      "-----------------------------------------------------------------------------------\n",
      "Performance Metrics for temperature 20:\n",
      "Mean Squared Error (MSE): 0.0023\n",
      "Mean Absolute Error (MAE): 0.0285\n",
      "R-squared (R²): 0.9868\n",
      "Root Mean Squared Error (RMSE): 0.0476\n",
      "Prediction Time: 0.0007 seconds\n",
      "Gradient Boosting Predicted voltage for temperature = 20 and time = 10.12196356 : 1.220126891547632 V\n",
      "-----------------------------------------------------------------------------------\n",
      "Performance Metrics for temperature 30:\n",
      "Mean Squared Error (MSE): 0.0092\n",
      "Mean Absolute Error (MAE): 0.0374\n",
      "R-squared (R²): 0.8154\n",
      "Root Mean Squared Error (RMSE): 0.0957\n",
      "Prediction Time: 0.0007 seconds\n",
      "Gradient Boosting Predicted voltage for temperature = 30 and time = 10.12196356 : 1.5432702565567051 V\n",
      "-----------------------------------------------------------------------------------\n",
      "Performance Metrics for temperature 40:\n",
      "Mean Squared Error (MSE): 0.0019\n",
      "Mean Absolute Error (MAE): 0.0259\n",
      "R-squared (R²): 0.9828\n",
      "Root Mean Squared Error (RMSE): 0.0433\n",
      "Prediction Time: 0.0007 seconds\n",
      "Gradient Boosting Predicted voltage for temperature = 40 and time = 10.12196356 : 1.0938452288424594 V\n",
      "-----------------------------------------------------------------------------------\n",
      "Performance Metrics for temperature 50:\n",
      "Mean Squared Error (MSE): 0.0030\n",
      "Mean Absolute Error (MAE): 0.0325\n",
      "R-squared (R²): 0.9732\n",
      "Root Mean Squared Error (RMSE): 0.0544\n",
      "Prediction Time: 0.0007 seconds\n",
      "Gradient Boosting Predicted voltage for temperature = 50 and time = 10.12196356 : 1.0442560627343889 V\n",
      "-----------------------------------------------------------------------------------\n",
      "Temp at Max R2:  20\n"
     ]
    },
    {
     "data": {
      "text/plain": [
       "[<matplotlib.lines.Line2D at 0x7f9b714a1be0>]"
      ]
     },
     "execution_count": 12,
     "metadata": {},
     "output_type": "execute_result"
    },
    {
     "data": {
      "image/png": "[encoded data removed]",
      "text/plain": [
       "<Figure size 432x288 with 1 Axes>"
      ]
     },
     "metadata": {
      "needs_background": "light"
     },
     "output_type": "display_data"
    },
    {
     "data": {
      "image/png": "[encoded data removed]",
      "text/plain": [
       "<Figure size 432x288 with 1 Axes>"
      ]
     },
     "metadata": {
      "needs_background": "light"
     },
     "output_type": "display_data"
    }
   ],
   "source": [
    "grad_y_pred = {}\n",
    "gradmodel = GradientBoostingRegressor( n_estimators=100, learning_rate=0.1, max_depth=1, random_state=0, loss='ls' )\n",
    "maxr2 = 0\n",
    "maxr2temp = -100\n",
    "\n",
    "for temp in unique_temperatures:\n",
    "    gradmodel.fit(X_train[temp], y_train[temp].values.ravel())\n",
    "\n",
    "    t1 = time.time()\n",
    "    grad_y_pred[temp] = gradmodel.predict(X_test[temp])\n",
    "    pred_time = time.time() - t1\n",
    "\n",
    "    mse = mean_squared_error(y_test[temp], grad_y_pred[temp])\n",
    "    mae = mean_absolute_error(y_test[temp], grad_y_pred[temp])\n",
    "    r2 = r2_score(y_test[temp], grad_y_pred[temp])\n",
    "    rmse = np.sqrt(mse)\n",
    "    \n",
    "    if (r2 > maxr2):\n",
    "        maxr2 = r2\n",
    "        maxr2temp = temp\n",
    "    \n",
    "    print(\"-----------------------------------------------------------------------------------\")\n",
    "    print(f\"Performance Metrics for temperature {temp}:\")\n",
    "    print(f\"Mean Squared Error (MSE): {mse:.4f}\")\n",
    "    print(f\"Mean Absolute Error (MAE): {mae:.4f}\")\n",
    "    print(f\"R-squared (R²): {r2:.4f}\")\n",
    "    print(f\"Root Mean Squared Error (RMSE): {rmse:.4f}\")\n",
    "    print(f\"Prediction Time: {pred_time:.4f} seconds\")\n",
    "\n",
    "    grad_volt_pred = gradmodel.predict([[t0, socmin, socmax]])[0]\n",
    "\n",
    "    print(\"Gradient Boosting Predicted voltage for temperature =\", temp, \"and time =\", t0, \":\", grad_volt_pred, \"V\")\n",
    "    \n",
    "print(\"-----------------------------------------------------------------------------------\")\n",
    "\n",
    "print(\"Temp at Max R2: \", maxr2temp)\n",
    "\n",
    "plt.figure()\n",
    "plt.scatter(X_test[maxr2temp]['Time'], tree_y_pred[maxr2temp], alpha=0.6)\n",
    "\n",
    "plt.figure()\n",
    "plt.scatter(y_test[maxr2temp], grad_y_pred[maxr2temp], alpha=0.6)\n",
    "min_val = min(y_test[maxr2temp].values.min(), grad_y_pred[maxr2temp].min())\n",
    "max_val = max(y_test[maxr2temp].values.max(), grad_y_pred[maxr2temp].max())\n",
    "plt.plot([min_val, max_val], [min_val, max_val], 'g-', linewidth=1, label='x = y')"
   ]
  }
 ],
 "metadata": {
  "kernelspec": {
   "display_name": "Python 3 (ipykernel)",
   "language": "python",
   "name": "python3"
  },
  "language_info": {
   "codemirror_mode": {
    "name": "ipython",
    "version": 3
   },
   "file_extension": ".py",
   "mimetype": "text/x-python",
   "name": "python",
   "nbconvert_exporter": "python",
   "pygments_lexer": "ipython3",
   "version": "3.9.5"
  }
 },
 "nbformat": 4,
 "nbformat_minor": 2
}
